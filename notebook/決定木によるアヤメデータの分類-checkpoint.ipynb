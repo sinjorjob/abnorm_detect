{
 "cells": [
  {
   "cell_type": "code",
   "execution_count": 4,
   "metadata": {},
   "outputs": [
    {
     "name": "stdout",
     "output_type": "stream",
     "text": [
      "Test Data\n",
      "T Label [0 1 1 0 2 1 2 0 0 2 1 0 2 1 1 0 1 1 0 0 1 1 1 0 2 1 0 0 1 2 1 2 1 2 2 0 1\n",
      " 0 1 2 2 0 2 2 1]\n",
      "P Label [0 1 1 0 2 1 2 0 0 2 1 0 2 1 1 0 1 1 0 0 1 1 2 0 2 1 0 0 1 2 1 2 1 2 2 0 1\n",
      " 0 1 2 2 0 1 2 1]\n",
      "train dataの正解率：100.0%\n",
      "test dataの正解率：95.6%\n",
      "Training data\n",
      "Class 0 Precision: 1.000, Recall: 1.000, Fscore: 1.000\n",
      "Class 1 Precision: 1.000, Recall: 1.000, Fscore: 1.000\n",
      "Class 2 Precision: 1.000, Recall: 1.000, Fscore: 1.000\n",
      "Average Precision: 1.000, Recall: 1.000, Fscore: 1.000\n",
      "Test data\n",
      "Class 0 Precision: 1.000, Recall: 1.000, Fscore: 1.000\n",
      "Class 1 Precision: 0.944, Recall: 0.944, Fscore: 0.944\n",
      "Class 2 Precision: 0.923, Recall: 0.923, Fscore: 0.923\n",
      "Average Precision: 0.956, Recall: 0.956, Fscore: 0.956\n",
      "tree.dot file is generated\n"
     ]
    }
   ],
   "source": [
    "#### 決定木学習による識別と決定木の描画\n",
    "from sklearn import datasets\n",
    "import numpy as np\n",
    "from sklearn.model_selection import train_test_split\n",
    "from sklearn.preprocessing import scale\n",
    "from sklearn.tree import DecisionTreeClassifier,export_graphviz\n",
    "from sklearn.metrics import precision_recall_fscore_support\n",
    "from sklearn.metrics import accuracy_score\n",
    "\n",
    "\n",
    "# テストデータの割合\n",
    "test_proportion = 0.3\n",
    "# Iris データセットをロード  \n",
    "iris = datasets.load_iris()\n",
    "# 特徴ベクトルを取得\n",
    "X = iris.data\n",
    "# クラスラベルを取得\n",
    "y = iris.target\n",
    "# z標準化（平均０、標準偏差1のデータに変換する）\n",
    "X_std = scale(X)\n",
    "\n",
    "# 学習データとテストデータに分割(学習データ7割、テストデータ3割)\n",
    "X_train, X_test, y_train, y_test = train_test_split(X, y, test_size = test_proportion, random_state = 1)\n",
    "\n",
    "\n",
    "# 決定木のインスタンスを生成（分割の品質を測定する機能criterionにエントロピーentropyを指定）\n",
    "tree = DecisionTreeClassifier(criterion='entropy', max_depth=3)\n",
    "# 決定木のモデルに学習データを適合させる\n",
    "#  fit(学習データ、正解データ)\n",
    "tree.fit(X_train, y_train)\n",
    "\n",
    "# 学習した決定木で予測\n",
    "y_train_pred = tree.predict(X_train)\n",
    "y_test_pred = tree.predict(X_test)\n",
    "\n",
    "# テストデータの正解クラスと決定木による予測クラスを出力\n",
    "print(\"Test Data\")\n",
    "print(\"T Label\", y_test)\n",
    "print(\"P Label\", y_test_pred)\n",
    "\n",
    "\n",
    "#分類結果\n",
    "acc_train = accuracy_score(y_train, tree.predict(X_train))\n",
    "acc_test  = accuracy_score(y_test, tree.predict(X_test))\n",
    "\n",
    "print('train dataの正解率：{:.1f}%'.format(acc_train*100))\n",
    "print('test dataの正解率：{:.1f}%'.format(acc_test*100))\n",
    "\n",
    "\n",
    "# 関数precision_recall_fscore_supportを使用して，学習データおよびテストデータに対する\n",
    "# precision(正解と予測したデータのうち、実際に正解だった確率)\n",
    "# recall(結果として出てくるべきもの(記事や文書)のうち、実際に出て来たものの割合\n",
    "# F値を計算。\n",
    "fscore_train = precision_recall_fscore_support(y_train, y_train_pred)\n",
    "fscore_test = precision_recall_fscore_support(y_test, y_test_pred)\n",
    "\n",
    "# 平均precision, recall, F値を算出する\n",
    "print('Training data')\n",
    "print('Class 0 Precision: %.3f, Recall: %.3f, Fscore: %.3f' % (fscore_train[0][0], fscore_train[1][0], fscore_train[2][0]))\n",
    "print('Class 1 Precision: %.3f, Recall: %.3f, Fscore: %.3f' % (fscore_train[0][1], fscore_train[1][1], fscore_train[2][1]))\n",
    "print('Class 2 Precision: %.3f, Recall: %.3f, Fscore: %.3f' % (fscore_train[0][2], fscore_train[1][2], fscore_train[2][2]))\n",
    "print('Average Precision: %.3f, Recall: %.3f, Fscore: %.3f' % (np.average(fscore_train[0]), np.average(fscore_train[1]), np.average(fscore_train[2])))\n",
    "\n",
    "print('Test data')\n",
    "print('Class 0 Precision: %.3f, Recall: %.3f, Fscore: %.3f' % (fscore_test[0][0], fscore_test[1][0], fscore_test[2][0]))\n",
    "print('Class 1 Precision: %.3f, Recall: %.3f, Fscore: %.3f' % (fscore_test[0][1], fscore_test[1][1], fscore_test[2][1]))\n",
    "print('Class 2 Precision: %.3f, Recall: %.3f, Fscore: %.3f' % (fscore_test[0][2], fscore_test[1][2], fscore_test[2][2]))\n",
    "print('Average Precision: %.3f, Recall: %.3f, Fscore: %.3f' % (np.average(fscore_test[0]), np.average(fscore_test[1]), np.average(fscore_test[2])))\n",
    "\n",
    "# 学習した決定木モデルをGraphviz形式で出力\n",
    "# 出力されたtree.dotファイルは，別途Graphviz(gvedit)から開くことで木構造を描画できる\n",
    "# コマンドラインの場合は，'dot -T png tree.dot -o tree.png'\n",
    "export_graphviz(tree, out_file='tree.dot', feature_names=['Sepal length', 'Sepal width', 'Petal length', 'Petal width'])\n",
    "print(\"tree.dot file is generated\")"
   ]
  },
  {
   "cell_type": "code",
   "execution_count": 8,
   "metadata": {},
   "outputs": [
    {
     "data": {
      "image/png": "[encoded data removed]",
      "text/plain": [
       "<Figure size 432x288 with 1 Axes>"
      ]
     },
     "metadata": {},
     "output_type": "display_data"
    }
   ],
   "source": [
    "#深さを動的に変化させたときの正解率を描画\n",
    "import matplotlib.pyplot as plt\n",
    "import japanize_matplotlib\n",
    "accurate = []\n",
    "k_range = []\n",
    " \n",
    "for k in range(1, 30):\n",
    "    tree = DecisionTreeClassifier(criterion='entropy', max_depth=k)\n",
    "    tree.fit(X_train, y_train)\n",
    "    score  = accuracy_score(y_test, tree.predict(X_test))\n",
    "    accurate.append(score*100)\n",
    "    k_range.append(k)\n",
    "    \n",
    "# X軸に近傍点\n",
    "# Y軸に評価値\n",
    "plt.plot(k_range, accurate)\n",
    "plt.grid()\n",
    "plt.xlabel('Kの数')\n",
    "plt.ylabel('テストデータにおける分類の正解率(%)')\n",
    "plt.title('Kの値を変化させた場合の正解率')\n",
    "plt.show()"
   ]
  },
  {
   "cell_type": "code",
   "execution_count": null,
   "metadata": {},
   "outputs": [],
   "source": []
  }
 ],
 "metadata": {
  "kernelspec": {
   "display_name": "Python 3",
   "language": "python",
   "name": "python3"
  },
  "language_info": {
   "codemirror_mode": {
    "name": "ipython",
    "version": 3
   },
   "file_extension": ".py",
   "mimetype": "text/x-python",
   "name": "python",
   "nbconvert_exporter": "python",
   "pygments_lexer": "ipython3",
   "version": "3.6.5"
  }
 },
 "nbformat": 4,
 "nbformat_minor": 2
}
